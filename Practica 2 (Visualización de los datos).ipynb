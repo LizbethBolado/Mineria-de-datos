{
 "cells": [
  {
   "cell_type": "markdown",
   "metadata": {},
   "source": [
    "# Importamos librerias"
   ]
  },
  {
   "cell_type": "code",
   "execution_count": 7,
   "metadata": {},
   "outputs": [],
   "source": [
    "import pandas as pd\n",
    "import matplotlib as plt\n",
    "%matplotlib inline"
   ]
  },
  {
   "cell_type": "code",
   "execution_count": 8,
   "metadata": {},
   "outputs": [
    {
     "data": {
      "text/html": [
       "<div>\n",
       "<style scoped>\n",
       "    .dataframe tbody tr th:only-of-type {\n",
       "        vertical-align: middle;\n",
       "    }\n",
       "\n",
       "    .dataframe tbody tr th {\n",
       "        vertical-align: top;\n",
       "    }\n",
       "\n",
       "    .dataframe thead th {\n",
       "        text-align: right;\n",
       "    }\n",
       "</style>\n",
       "<table border=\"1\" class=\"dataframe\">\n",
       "  <thead>\n",
       "    <tr style=\"text-align: right;\">\n",
       "      <th></th>\n",
       "      <th>country</th>\n",
       "      <th>description</th>\n",
       "      <th>designation</th>\n",
       "      <th>points</th>\n",
       "      <th>price</th>\n",
       "      <th>province</th>\n",
       "      <th>region_1</th>\n",
       "      <th>region_2</th>\n",
       "      <th>variety</th>\n",
       "      <th>winery</th>\n",
       "    </tr>\n",
       "  </thead>\n",
       "  <tbody>\n",
       "    <tr>\n",
       "      <td>0</td>\n",
       "      <td>US</td>\n",
       "      <td>This tremendous 100% varietal wine hails from ...</td>\n",
       "      <td>Martha's Vineyard</td>\n",
       "      <td>96</td>\n",
       "      <td>235.0</td>\n",
       "      <td>California</td>\n",
       "      <td>Napa Valley</td>\n",
       "      <td>Napa</td>\n",
       "      <td>Cabernet Sauvignon</td>\n",
       "      <td>Heitz</td>\n",
       "    </tr>\n",
       "    <tr>\n",
       "      <td>1</td>\n",
       "      <td>Spain</td>\n",
       "      <td>Ripe aromas of fig, blackberry and cassis are ...</td>\n",
       "      <td>Carodorum Selección Especial Reserva</td>\n",
       "      <td>96</td>\n",
       "      <td>110.0</td>\n",
       "      <td>Northern Spain</td>\n",
       "      <td>Toro</td>\n",
       "      <td>NaN</td>\n",
       "      <td>Tinta de Toro</td>\n",
       "      <td>Bodega Carmen Rodríguez</td>\n",
       "    </tr>\n",
       "    <tr>\n",
       "      <td>2</td>\n",
       "      <td>US</td>\n",
       "      <td>Mac Watson honors the memory of a wine once ma...</td>\n",
       "      <td>Special Selected Late Harvest</td>\n",
       "      <td>96</td>\n",
       "      <td>90.0</td>\n",
       "      <td>California</td>\n",
       "      <td>Knights Valley</td>\n",
       "      <td>Sonoma</td>\n",
       "      <td>Sauvignon Blanc</td>\n",
       "      <td>Macauley</td>\n",
       "    </tr>\n",
       "    <tr>\n",
       "      <td>3</td>\n",
       "      <td>US</td>\n",
       "      <td>This spent 20 months in 30% new French oak, an...</td>\n",
       "      <td>Reserve</td>\n",
       "      <td>96</td>\n",
       "      <td>65.0</td>\n",
       "      <td>Oregon</td>\n",
       "      <td>Willamette Valley</td>\n",
       "      <td>Willamette Valley</td>\n",
       "      <td>Pinot Noir</td>\n",
       "      <td>Ponzi</td>\n",
       "    </tr>\n",
       "    <tr>\n",
       "      <td>4</td>\n",
       "      <td>France</td>\n",
       "      <td>This is the top wine from La Bégude, named aft...</td>\n",
       "      <td>La Brûlade</td>\n",
       "      <td>95</td>\n",
       "      <td>66.0</td>\n",
       "      <td>Provence</td>\n",
       "      <td>Bandol</td>\n",
       "      <td>NaN</td>\n",
       "      <td>Provence red blend</td>\n",
       "      <td>Domaine de la Bégude</td>\n",
       "    </tr>\n",
       "  </tbody>\n",
       "</table>\n",
       "</div>"
      ],
      "text/plain": [
       "  country                                        description  \\\n",
       "0      US  This tremendous 100% varietal wine hails from ...   \n",
       "1   Spain  Ripe aromas of fig, blackberry and cassis are ...   \n",
       "2      US  Mac Watson honors the memory of a wine once ma...   \n",
       "3      US  This spent 20 months in 30% new French oak, an...   \n",
       "4  France  This is the top wine from La Bégude, named aft...   \n",
       "\n",
       "                            designation  points  price        province  \\\n",
       "0                     Martha's Vineyard      96  235.0      California   \n",
       "1  Carodorum Selección Especial Reserva      96  110.0  Northern Spain   \n",
       "2         Special Selected Late Harvest      96   90.0      California   \n",
       "3                               Reserve      96   65.0          Oregon   \n",
       "4                            La Brûlade      95   66.0        Provence   \n",
       "\n",
       "            region_1           region_2             variety  \\\n",
       "0        Napa Valley               Napa  Cabernet Sauvignon   \n",
       "1               Toro                NaN       Tinta de Toro   \n",
       "2     Knights Valley             Sonoma     Sauvignon Blanc   \n",
       "3  Willamette Valley  Willamette Valley          Pinot Noir   \n",
       "4             Bandol                NaN  Provence red blend   \n",
       "\n",
       "                    winery  \n",
       "0                    Heitz  \n",
       "1  Bodega Carmen Rodríguez  \n",
       "2                 Macauley  \n",
       "3                    Ponzi  \n",
       "4     Domaine de la Bégude  "
      ]
     },
     "execution_count": 8,
     "metadata": {},
     "output_type": "execute_result"
    }
   ],
   "source": [
    "vinos=pd.read_csv(\"winemag-data_first150k.csv\", index_col=0)\n",
    "vinos.head()"
   ]
  },
  {
   "cell_type": "code",
   "execution_count": 9,
   "metadata": {},
   "outputs": [],
   "source": [
    "vinos=pd.read_csv(\"winemag-data_first150k.csv\",encoding='utf8')"
   ]
  },
  {
   "cell_type": "markdown",
   "metadata": {},
   "source": [
    "Visualizamos la tabla del archivo que abrimos."
   ]
  },
  {
   "cell_type": "markdown",
   "metadata": {},
   "source": [
    "# Aplicando metodos de analisis inicial para descripcion"
   ]
  },
  {
   "cell_type": "code",
   "execution_count": 10,
   "metadata": {},
   "outputs": [],
   "source": [
    "vinos1=vinos.rename(columns={'country':'País','description':'Descripción','designation':'Designación','points':'Puntos','price':'Precio','province':'Provincia','region_1':'Region_1','region_2':'Region_2','variety':'Tipo',})"
   ]
  },
  {
   "cell_type": "code",
   "execution_count": 11,
   "metadata": {},
   "outputs": [
    {
     "data": {
      "text/html": [
       "<div>\n",
       "<style scoped>\n",
       "    .dataframe tbody tr th:only-of-type {\n",
       "        vertical-align: middle;\n",
       "    }\n",
       "\n",
       "    .dataframe tbody tr th {\n",
       "        vertical-align: top;\n",
       "    }\n",
       "\n",
       "    .dataframe thead th {\n",
       "        text-align: right;\n",
       "    }\n",
       "</style>\n",
       "<table border=\"1\" class=\"dataframe\">\n",
       "  <thead>\n",
       "    <tr style=\"text-align: right;\">\n",
       "      <th></th>\n",
       "      <th>Unnamed: 0</th>\n",
       "      <th>País</th>\n",
       "      <th>Descripción</th>\n",
       "      <th>Designación</th>\n",
       "      <th>Puntos</th>\n",
       "      <th>Precio</th>\n",
       "      <th>Provincia</th>\n",
       "      <th>Region_1</th>\n",
       "      <th>Region_2</th>\n",
       "      <th>Tipo</th>\n",
       "      <th>winery</th>\n",
       "    </tr>\n",
       "  </thead>\n",
       "  <tbody>\n",
       "    <tr>\n",
       "      <td>0</td>\n",
       "      <td>0</td>\n",
       "      <td>US</td>\n",
       "      <td>This tremendous 100% varietal wine hails from ...</td>\n",
       "      <td>Martha's Vineyard</td>\n",
       "      <td>96</td>\n",
       "      <td>235.0</td>\n",
       "      <td>California</td>\n",
       "      <td>Napa Valley</td>\n",
       "      <td>Napa</td>\n",
       "      <td>Cabernet Sauvignon</td>\n",
       "      <td>Heitz</td>\n",
       "    </tr>\n",
       "    <tr>\n",
       "      <td>1</td>\n",
       "      <td>1</td>\n",
       "      <td>Spain</td>\n",
       "      <td>Ripe aromas of fig, blackberry and cassis are ...</td>\n",
       "      <td>Carodorum Selección Especial Reserva</td>\n",
       "      <td>96</td>\n",
       "      <td>110.0</td>\n",
       "      <td>Northern Spain</td>\n",
       "      <td>Toro</td>\n",
       "      <td>NaN</td>\n",
       "      <td>Tinta de Toro</td>\n",
       "      <td>Bodega Carmen Rodríguez</td>\n",
       "    </tr>\n",
       "    <tr>\n",
       "      <td>2</td>\n",
       "      <td>2</td>\n",
       "      <td>US</td>\n",
       "      <td>Mac Watson honors the memory of a wine once ma...</td>\n",
       "      <td>Special Selected Late Harvest</td>\n",
       "      <td>96</td>\n",
       "      <td>90.0</td>\n",
       "      <td>California</td>\n",
       "      <td>Knights Valley</td>\n",
       "      <td>Sonoma</td>\n",
       "      <td>Sauvignon Blanc</td>\n",
       "      <td>Macauley</td>\n",
       "    </tr>\n",
       "    <tr>\n",
       "      <td>3</td>\n",
       "      <td>3</td>\n",
       "      <td>US</td>\n",
       "      <td>This spent 20 months in 30% new French oak, an...</td>\n",
       "      <td>Reserve</td>\n",
       "      <td>96</td>\n",
       "      <td>65.0</td>\n",
       "      <td>Oregon</td>\n",
       "      <td>Willamette Valley</td>\n",
       "      <td>Willamette Valley</td>\n",
       "      <td>Pinot Noir</td>\n",
       "      <td>Ponzi</td>\n",
       "    </tr>\n",
       "    <tr>\n",
       "      <td>4</td>\n",
       "      <td>4</td>\n",
       "      <td>France</td>\n",
       "      <td>This is the top wine from La Bégude, named aft...</td>\n",
       "      <td>La Brûlade</td>\n",
       "      <td>95</td>\n",
       "      <td>66.0</td>\n",
       "      <td>Provence</td>\n",
       "      <td>Bandol</td>\n",
       "      <td>NaN</td>\n",
       "      <td>Provence red blend</td>\n",
       "      <td>Domaine de la Bégude</td>\n",
       "    </tr>\n",
       "  </tbody>\n",
       "</table>\n",
       "</div>"
      ],
      "text/plain": [
       "   Unnamed: 0    País                                        Descripción  \\\n",
       "0           0      US  This tremendous 100% varietal wine hails from ...   \n",
       "1           1   Spain  Ripe aromas of fig, blackberry and cassis are ...   \n",
       "2           2      US  Mac Watson honors the memory of a wine once ma...   \n",
       "3           3      US  This spent 20 months in 30% new French oak, an...   \n",
       "4           4  France  This is the top wine from La Bégude, named aft...   \n",
       "\n",
       "                            Designación  Puntos  Precio       Provincia  \\\n",
       "0                     Martha's Vineyard      96   235.0      California   \n",
       "1  Carodorum Selección Especial Reserva      96   110.0  Northern Spain   \n",
       "2         Special Selected Late Harvest      96    90.0      California   \n",
       "3                               Reserve      96    65.0          Oregon   \n",
       "4                            La Brûlade      95    66.0        Provence   \n",
       "\n",
       "            Region_1           Region_2                Tipo  \\\n",
       "0        Napa Valley               Napa  Cabernet Sauvignon   \n",
       "1               Toro                NaN       Tinta de Toro   \n",
       "2     Knights Valley             Sonoma     Sauvignon Blanc   \n",
       "3  Willamette Valley  Willamette Valley          Pinot Noir   \n",
       "4             Bandol                NaN  Provence red blend   \n",
       "\n",
       "                    winery  \n",
       "0                    Heitz  \n",
       "1  Bodega Carmen Rodríguez  \n",
       "2                 Macauley  \n",
       "3                    Ponzi  \n",
       "4     Domaine de la Bégude  "
      ]
     },
     "execution_count": 11,
     "metadata": {},
     "output_type": "execute_result"
    }
   ],
   "source": [
    "vinos1.head()"
   ]
  },
  {
   "cell_type": "markdown",
   "metadata": {},
   "source": [
    "Renombramos las columnas para mejor entendimiento."
   ]
  },
  {
   "cell_type": "code",
   "execution_count": 12,
   "metadata": {},
   "outputs": [
    {
     "data": {
      "text/plain": [
       "Index(['Unnamed: 0', 'País', 'Descripción', 'Designación', 'Puntos', 'Precio',\n",
       "       'Provincia', 'Region_1', 'Region_2', 'Tipo', 'winery'],\n",
       "      dtype='object')"
      ]
     },
     "execution_count": 12,
     "metadata": {},
     "output_type": "execute_result"
    }
   ],
   "source": [
    "vinos1.columns"
   ]
  },
  {
   "cell_type": "markdown",
   "metadata": {},
   "source": [
    " Visualizamos las columnas que tiene nuestra base"
   ]
  },
  {
   "cell_type": "code",
   "execution_count": 13,
   "metadata": {},
   "outputs": [],
   "source": [
    "vinos2=vinos1.drop(['Descripción','Provincia','Region_1','Region_2','winery', 'Designación','Unnamed: 0','Puntos'], axis=1)"
   ]
  },
  {
   "cell_type": "code",
   "execution_count": 31,
   "metadata": {},
   "outputs": [
    {
     "data": {
      "text/html": [
       "<div>\n",
       "<style scoped>\n",
       "    .dataframe tbody tr th:only-of-type {\n",
       "        vertical-align: middle;\n",
       "    }\n",
       "\n",
       "    .dataframe tbody tr th {\n",
       "        vertical-align: top;\n",
       "    }\n",
       "\n",
       "    .dataframe thead th {\n",
       "        text-align: right;\n",
       "    }\n",
       "</style>\n",
       "<table border=\"1\" class=\"dataframe\">\n",
       "  <thead>\n",
       "    <tr style=\"text-align: right;\">\n",
       "      <th></th>\n",
       "      <th>País</th>\n",
       "      <th>Precio</th>\n",
       "      <th>Tipo</th>\n",
       "    </tr>\n",
       "  </thead>\n",
       "  <tbody>\n",
       "    <tr>\n",
       "      <td>0</td>\n",
       "      <td>US</td>\n",
       "      <td>235.0</td>\n",
       "      <td>Cabernet Sauvignon</td>\n",
       "    </tr>\n",
       "    <tr>\n",
       "      <td>1</td>\n",
       "      <td>Spain</td>\n",
       "      <td>110.0</td>\n",
       "      <td>Tinta de Toro</td>\n",
       "    </tr>\n",
       "    <tr>\n",
       "      <td>2</td>\n",
       "      <td>US</td>\n",
       "      <td>90.0</td>\n",
       "      <td>Sauvignon Blanc</td>\n",
       "    </tr>\n",
       "    <tr>\n",
       "      <td>3</td>\n",
       "      <td>US</td>\n",
       "      <td>65.0</td>\n",
       "      <td>Pinot Noir</td>\n",
       "    </tr>\n",
       "    <tr>\n",
       "      <td>4</td>\n",
       "      <td>France</td>\n",
       "      <td>66.0</td>\n",
       "      <td>Provence red blend</td>\n",
       "    </tr>\n",
       "  </tbody>\n",
       "</table>\n",
       "</div>"
      ],
      "text/plain": [
       "     País  Precio                Tipo\n",
       "0      US   235.0  Cabernet Sauvignon\n",
       "1   Spain   110.0       Tinta de Toro\n",
       "2      US    90.0     Sauvignon Blanc\n",
       "3      US    65.0          Pinot Noir\n",
       "4  France    66.0  Provence red blend"
      ]
     },
     "execution_count": 31,
     "metadata": {},
     "output_type": "execute_result"
    }
   ],
   "source": [
    "vinos2.head()"
   ]
  },
  {
   "cell_type": "markdown",
   "metadata": {},
   "source": [
    "Quitamos las columnas de las que no nos interesa obtener informacion, en este caso queremos hacer un analisis del país, con el precio y el tipo de vino que más consumen."
   ]
  },
  {
   "cell_type": "code",
   "execution_count": 15,
   "metadata": {},
   "outputs": [
    {
     "data": {
      "text/plain": [
       "array(['US', 'Spain', 'France', 'Italy', 'New Zealand', 'Bulgaria',\n",
       "       'Argentina', 'Australia', 'Portugal', 'Israel', 'South Africa',\n",
       "       'Greece', 'Chile', 'Morocco', 'Romania', 'Germany', 'Canada',\n",
       "       'Moldova', 'Hungary', 'Austria', 'Croatia', 'Slovenia', nan,\n",
       "       'India', 'Turkey', 'Macedonia', 'Lebanon', 'Serbia', 'Uruguay',\n",
       "       'Switzerland', 'Albania', 'Bosnia and Herzegovina', 'Brazil',\n",
       "       'Cyprus', 'Lithuania', 'Japan', 'China', 'South Korea', 'Ukraine',\n",
       "       'England', 'Mexico', 'Georgia', 'Montenegro', 'Luxembourg',\n",
       "       'Slovakia', 'Czech Republic', 'Egypt', 'Tunisia', 'US-France'],\n",
       "      dtype=object)"
      ]
     },
     "execution_count": 15,
     "metadata": {},
     "output_type": "execute_result"
    }
   ],
   "source": [
    "vinos2.País.unique()"
   ]
  },
  {
   "cell_type": "markdown",
   "metadata": {},
   "source": [
    "Visualizamos los datos que no se repiten en nuestra columna País."
   ]
  },
  {
   "cell_type": "markdown",
   "metadata": {},
   "source": [
    "# Descripción estadistica basica"
   ]
  },
  {
   "cell_type": "code",
   "execution_count": 16,
   "metadata": {},
   "outputs": [],
   "source": [
    "pais_1=vinos2[vinos2['País']=='US']\n",
    "pais_1.to_csv('Solo_US.csv',index=False)"
   ]
  },
  {
   "cell_type": "markdown",
   "metadata": {},
   "source": [
    "Los datos obtenidos "
   ]
  },
  {
   "cell_type": "code",
   "execution_count": 17,
   "metadata": {},
   "outputs": [
    {
     "data": {
      "text/plain": [
       "<bound method NDFrame.describe of        País  Precio                Tipo\n",
       "0        US   235.0  Cabernet Sauvignon\n",
       "2        US    90.0     Sauvignon Blanc\n",
       "3        US    65.0          Pinot Noir\n",
       "8        US    65.0          Pinot Noir\n",
       "9        US    60.0          Pinot Noir\n",
       "...     ...     ...                 ...\n",
       "150892   US    10.0              Merlot\n",
       "150896   US    10.0          Pinot Noir\n",
       "150914   US    25.0      White Riesling\n",
       "150915   US    30.0         White Blend\n",
       "150916   US    65.0     Champagne Blend\n",
       "\n",
       "[62397 rows x 3 columns]>"
      ]
     },
     "execution_count": 17,
     "metadata": {},
     "output_type": "execute_result"
    }
   ],
   "source": [
    "pais_1.describe\n"
   ]
  },
  {
   "cell_type": "code",
   "execution_count": 18,
   "metadata": {},
   "outputs": [
    {
     "data": {
      "text/html": [
       "<div>\n",
       "<style scoped>\n",
       "    .dataframe tbody tr th:only-of-type {\n",
       "        vertical-align: middle;\n",
       "    }\n",
       "\n",
       "    .dataframe tbody tr th {\n",
       "        vertical-align: top;\n",
       "    }\n",
       "\n",
       "    .dataframe thead th {\n",
       "        text-align: right;\n",
       "    }\n",
       "</style>\n",
       "<table border=\"1\" class=\"dataframe\">\n",
       "  <thead>\n",
       "    <tr style=\"text-align: right;\">\n",
       "      <th></th>\n",
       "      <th>Precio</th>\n",
       "      <th>Tipo</th>\n",
       "    </tr>\n",
       "    <tr>\n",
       "      <th>País</th>\n",
       "      <th></th>\n",
       "      <th></th>\n",
       "    </tr>\n",
       "  </thead>\n",
       "  <tbody>\n",
       "    <tr>\n",
       "      <td>US</td>\n",
       "      <td>235.0</td>\n",
       "      <td>Cabernet Sauvignon</td>\n",
       "    </tr>\n",
       "    <tr>\n",
       "      <td>US</td>\n",
       "      <td>90.0</td>\n",
       "      <td>Sauvignon Blanc</td>\n",
       "    </tr>\n",
       "    <tr>\n",
       "      <td>US</td>\n",
       "      <td>65.0</td>\n",
       "      <td>Pinot Noir</td>\n",
       "    </tr>\n",
       "    <tr>\n",
       "      <td>US</td>\n",
       "      <td>65.0</td>\n",
       "      <td>Pinot Noir</td>\n",
       "    </tr>\n",
       "    <tr>\n",
       "      <td>US</td>\n",
       "      <td>60.0</td>\n",
       "      <td>Pinot Noir</td>\n",
       "    </tr>\n",
       "  </tbody>\n",
       "</table>\n",
       "</div>"
      ],
      "text/plain": [
       "      Precio                Tipo\n",
       "País                            \n",
       "US     235.0  Cabernet Sauvignon\n",
       "US      90.0     Sauvignon Blanc\n",
       "US      65.0          Pinot Noir\n",
       "US      65.0          Pinot Noir\n",
       "US      60.0          Pinot Noir"
      ]
     },
     "execution_count": 18,
     "metadata": {},
     "output_type": "execute_result"
    }
   ],
   "source": [
    "p1=pd.read_csv(\"Solo_US.csv\", index_col=0)\n",
    "p1.head()"
   ]
  },
  {
   "cell_type": "markdown",
   "metadata": {},
   "source": [
    "Analizamos los precios y los tipos de vinos que hay en US."
   ]
  },
  {
   "cell_type": "code",
   "execution_count": 19,
   "metadata": {},
   "outputs": [],
   "source": [
    "pais_2=vinos2[vinos2['País']=='Spain']\n",
    "pais_2.to_csv('Solo_Spain.csv', index=False)"
   ]
  },
  {
   "cell_type": "code",
   "execution_count": 20,
   "metadata": {},
   "outputs": [
    {
     "data": {
      "text/plain": [
       "<bound method NDFrame.describe of          País  Precio               Tipo\n",
       "1       Spain   110.0      Tinta de Toro\n",
       "5       Spain    73.0      Tinta de Toro\n",
       "6       Spain    65.0      Tinta de Toro\n",
       "7       Spain   110.0      Tinta de Toro\n",
       "17      Spain    80.0        Tempranillo\n",
       "...       ...     ...                ...\n",
       "149601  Spain    15.0  Tempranillo Blend\n",
       "149819  Spain     7.0              Viura\n",
       "149858  Spain    12.0        Tempranillo\n",
       "149936  Spain     7.0        Tempranillo\n",
       "149993  Spain    12.0               Rosé\n",
       "\n",
       "[8268 rows x 3 columns]>"
      ]
     },
     "execution_count": 20,
     "metadata": {},
     "output_type": "execute_result"
    }
   ],
   "source": [
    "pais_2.describe"
   ]
  },
  {
   "cell_type": "code",
   "execution_count": 21,
   "metadata": {
    "scrolled": true
   },
   "outputs": [
    {
     "data": {
      "text/html": [
       "<div>\n",
       "<style scoped>\n",
       "    .dataframe tbody tr th:only-of-type {\n",
       "        vertical-align: middle;\n",
       "    }\n",
       "\n",
       "    .dataframe tbody tr th {\n",
       "        vertical-align: top;\n",
       "    }\n",
       "\n",
       "    .dataframe thead th {\n",
       "        text-align: right;\n",
       "    }\n",
       "</style>\n",
       "<table border=\"1\" class=\"dataframe\">\n",
       "  <thead>\n",
       "    <tr style=\"text-align: right;\">\n",
       "      <th></th>\n",
       "      <th>Precio</th>\n",
       "      <th>Tipo</th>\n",
       "    </tr>\n",
       "    <tr>\n",
       "      <th>País</th>\n",
       "      <th></th>\n",
       "      <th></th>\n",
       "    </tr>\n",
       "  </thead>\n",
       "  <tbody>\n",
       "    <tr>\n",
       "      <td>Spain</td>\n",
       "      <td>110.0</td>\n",
       "      <td>Tinta de Toro</td>\n",
       "    </tr>\n",
       "    <tr>\n",
       "      <td>Spain</td>\n",
       "      <td>73.0</td>\n",
       "      <td>Tinta de Toro</td>\n",
       "    </tr>\n",
       "    <tr>\n",
       "      <td>Spain</td>\n",
       "      <td>65.0</td>\n",
       "      <td>Tinta de Toro</td>\n",
       "    </tr>\n",
       "    <tr>\n",
       "      <td>Spain</td>\n",
       "      <td>110.0</td>\n",
       "      <td>Tinta de Toro</td>\n",
       "    </tr>\n",
       "    <tr>\n",
       "      <td>Spain</td>\n",
       "      <td>80.0</td>\n",
       "      <td>Tempranillo</td>\n",
       "    </tr>\n",
       "  </tbody>\n",
       "</table>\n",
       "</div>"
      ],
      "text/plain": [
       "       Precio           Tipo\n",
       "País                        \n",
       "Spain   110.0  Tinta de Toro\n",
       "Spain    73.0  Tinta de Toro\n",
       "Spain    65.0  Tinta de Toro\n",
       "Spain   110.0  Tinta de Toro\n",
       "Spain    80.0    Tempranillo"
      ]
     },
     "execution_count": 21,
     "metadata": {},
     "output_type": "execute_result"
    }
   ],
   "source": [
    "p2=pd.read_csv(\"Solo_Spain.csv\", index_col=0)\n",
    "p2.head()"
   ]
  },
  {
   "cell_type": "markdown",
   "metadata": {},
   "source": [
    "Solo tomamos los datos de US y Spain, que son los que queremos analizar."
   ]
  },
  {
   "cell_type": "markdown",
   "metadata": {},
   "source": [
    "Nuestro propósito es comparar el precio de los tipos de vinos consumidos en US y Spain."
   ]
  },
  {
   "cell_type": "code",
   "execution_count": 23,
   "metadata": {},
   "outputs": [
    {
     "data": {
      "text/plain": [
       "33.65380839730282"
      ]
     },
     "execution_count": 23,
     "metadata": {},
     "output_type": "execute_result"
    }
   ],
   "source": [
    "p1['Precio'].mean()"
   ]
  },
  {
   "cell_type": "markdown",
   "metadata": {},
   "source": [
    "Encontramos el promedio de precios de los vinos vendidos en US."
   ]
  },
  {
   "cell_type": "code",
   "execution_count": 25,
   "metadata": {},
   "outputs": [
    {
     "data": {
      "text/plain": [
       "27.048529411764704"
      ]
     },
     "execution_count": 25,
     "metadata": {},
     "output_type": "execute_result"
    }
   ],
   "source": [
    "p2['Precio'].mean()"
   ]
  },
  {
   "cell_type": "markdown",
   "metadata": {},
   "source": [
    "Encontramos el promedio de precios de los vinos vendidos en Spain."
   ]
  },
  {
   "cell_type": "code",
   "execution_count": 26,
   "metadata": {},
   "outputs": [
    {
     "data": {
      "text/plain": [
       "4.0"
      ]
     },
     "execution_count": 26,
     "metadata": {},
     "output_type": "execute_result"
    }
   ],
   "source": [
    "p1['Precio'].min()"
   ]
  },
  {
   "cell_type": "markdown",
   "metadata": {},
   "source": [
    "Encontramos el precio mínimo de US."
   ]
  },
  {
   "cell_type": "code",
   "execution_count": 27,
   "metadata": {},
   "outputs": [
    {
     "data": {
      "text/plain": [
       "2013.0"
      ]
     },
     "execution_count": 27,
     "metadata": {},
     "output_type": "execute_result"
    }
   ],
   "source": [
    "p1['Precio'].max()"
   ]
  },
  {
   "cell_type": "markdown",
   "metadata": {},
   "source": [
    "Tenemos el precio máximo de vino vendido en US."
   ]
  },
  {
   "cell_type": "code",
   "execution_count": 28,
   "metadata": {},
   "outputs": [
    {
     "data": {
      "text/plain": [
       "4.0"
      ]
     },
     "execution_count": 28,
     "metadata": {},
     "output_type": "execute_result"
    }
   ],
   "source": [
    "p2['Precio'].min()"
   ]
  },
  {
   "cell_type": "markdown",
   "metadata": {},
   "source": [
    "El precio minimo de Spain es el mismo que en US."
   ]
  },
  {
   "cell_type": "code",
   "execution_count": 29,
   "metadata": {},
   "outputs": [
    {
     "data": {
      "text/plain": [
       "770.0"
      ]
     },
     "execution_count": 29,
     "metadata": {},
     "output_type": "execute_result"
    }
   ],
   "source": [
    "p2['Precio'].max()"
   ]
  },
  {
   "cell_type": "markdown",
   "metadata": {},
   "source": [
    "El precio máximo de los vinos en Spain es menor que en US."
   ]
  },
  {
   "cell_type": "markdown",
   "metadata": {},
   "source": [
    "# Graficas Matplotlib"
   ]
  },
  {
   "cell_type": "code",
   "execution_count": 48,
   "metadata": {},
   "outputs": [
    {
     "data": {
      "text/plain": [
       "<matplotlib.axes._subplots.AxesSubplot at 0x1fd17781788>"
      ]
     },
     "execution_count": 48,
     "metadata": {},
     "output_type": "execute_result"
    },
    {
     "data": {
      "image/png": "[encoded data removed]",
      "text/plain": [
       "<Figure size 432x288 with 1 Axes>"
      ]
     },
     "metadata": {
      "needs_background": "light"
     },
     "output_type": "display_data"
    }
   ],
   "source": [
    "p1['Precio'].plot.hist()"
   ]
  },
  {
   "cell_type": "markdown",
   "metadata": {},
   "source": [
    "La mayoría de los precios de US se concentran entre 0-250."
   ]
  },
  {
   "cell_type": "code",
   "execution_count": 53,
   "metadata": {},
   "outputs": [
    {
     "data": {
      "text/plain": [
       "<matplotlib.axes._subplots.AxesSubplot at 0x1fd17a0bdc8>"
      ]
     },
     "execution_count": 53,
     "metadata": {},
     "output_type": "execute_result"
    },
    {
     "data": {
      "image/png": "[encoded data removed]",
      "text/plain": [
       "<Figure size 432x288 with 1 Axes>"
      ]
     },
     "metadata": {
      "needs_background": "light"
     },
     "output_type": "display_data"
    }
   ],
   "source": [
    "p1[p1['Precio'] < 250]['Precio'].plot.hist()"
   ]
  },
  {
   "cell_type": "markdown",
   "metadata": {},
   "source": [
    "Aqui podemos observar más a detalle que los precios se concentran entre 0-50 en US."
   ]
  },
  {
   "cell_type": "code",
   "execution_count": 54,
   "metadata": {},
   "outputs": [
    {
     "data": {
      "text/plain": [
       "<matplotlib.axes._subplots.AxesSubplot at 0x1fd18a5ad48>"
      ]
     },
     "execution_count": 54,
     "metadata": {},
     "output_type": "execute_result"
    },
    {
     "data": {
      "image/png": "[encoded data removed]",
      "text/plain": [
       "<Figure size 432x288 with 1 Axes>"
      ]
     },
     "metadata": {
      "needs_background": "light"
     },
     "output_type": "display_data"
    }
   ],
   "source": [
    "p2['Precio'].plot.hist()"
   ]
  },
  {
   "cell_type": "markdown",
   "metadata": {},
   "source": [
    "La mayoría de los precios de Spain se encuentran entre 0-100."
   ]
  },
  {
   "cell_type": "code",
   "execution_count": 52,
   "metadata": {},
   "outputs": [
    {
     "data": {
      "text/plain": [
       "<matplotlib.axes._subplots.AxesSubplot at 0x1fd17988dc8>"
      ]
     },
     "execution_count": 52,
     "metadata": {},
     "output_type": "execute_result"
    },
    {
     "data": {
      "image/png": "[encoded data removed]",
      "text/plain": [
       "<Figure size 432x288 with 1 Axes>"
      ]
     },
     "metadata": {
      "needs_background": "light"
     },
     "output_type": "display_data"
    }
   ],
   "source": [
    "p2[p2['Precio'] < 100]['Precio'].plot.hist()"
   ]
  },
  {
   "cell_type": "markdown",
   "metadata": {},
   "source": [
    "Observamos que los precios están en su mayoría entre 0-20 en Spain."
   ]
  },
  {
   "cell_type": "markdown",
   "metadata": {},
   "source": [
    "Analizando las graficas podemos observar que en Spain los precios de los vinos son menores que en US."
   ]
  },
  {
   "cell_type": "markdown",
   "metadata": {},
   "source": [
    "# Graficas seaborn"
   ]
  },
  {
   "cell_type": "code",
   "execution_count": 56,
   "metadata": {},
   "outputs": [],
   "source": [
    "import seaborn as sns"
   ]
  },
  {
   "cell_type": "code",
   "execution_count": 63,
   "metadata": {
    "scrolled": false
   },
   "outputs": [
    {
     "data": {
      "text/plain": [
       "<matplotlib.axes._subplots.AxesSubplot at 0x1fd197ea588>"
      ]
     },
     "execution_count": 63,
     "metadata": {},
     "output_type": "execute_result"
    },
    {
     "data": {
      "image/png": "[encoded data removed]",
      "text/plain": [
       "<Figure size 432x288 with 1 Axes>"
      ]
     },
     "metadata": {
      "needs_background": "light"
     },
     "output_type": "display_data"
    }
   ],
   "source": [
    "sns.kdeplot(p1.query('Precio < 1000').Precio)"
   ]
  },
  {
   "cell_type": "markdown",
   "metadata": {},
   "source": [
    "El valor minimo de los precios de US se aproxima al 0 y el máximo es más grande que 600."
   ]
  },
  {
   "cell_type": "code",
   "execution_count": 62,
   "metadata": {
    "scrolled": true
   },
   "outputs": [
    {
     "data": {
      "text/plain": [
       "<matplotlib.axes._subplots.AxesSubplot at 0x1fd19b47488>"
      ]
     },
     "execution_count": 62,
     "metadata": {},
     "output_type": "execute_result"
    },
    {
     "data": {
      "image/png": "[encoded data removed]",
      "text/plain": [
       "<Figure size 432x288 with 1 Axes>"
      ]
     },
     "metadata": {
      "needs_background": "light"
     },
     "output_type": "display_data"
    }
   ],
   "source": [
    "sns.kdeplot(p2.query('Precio < 1000').Precio)"
   ]
  },
  {
   "cell_type": "markdown",
   "metadata": {},
   "source": [
    "El valor mínimo de los precios de Spain se aproxima a 0 y el máximo es mayor a 700."
   ]
  },
  {
   "cell_type": "markdown",
   "metadata": {},
   "source": [
    "El valor del vino en Spain se aproxima más a 0 que los precios de Us. Con esto confirmamos que los precios de los vinos en Spain son más bajos que en US."
   ]
  },
  {
   "cell_type": "markdown",
   "metadata": {},
   "source": [
    "# Tareas opcionales"
   ]
  },
  {
   "cell_type": "markdown",
   "metadata": {},
   "source": [
    "Relacionar 4 gráficas con los diferentes tipos de datos con los que se especializa para trabajar.\n",
    "\n",
    "-Intervalos y Razon: Variables cuantitativas, se utilizan las marcas de clase para graficar los puntos que formarán un poligono.\n",
    "\n",
    "-Ordinales y Nominales: Variables cualitativas, tipos de gráficas de barras y de pastel.\n"
   ]
  },
  {
   "cell_type": "markdown",
   "metadata": {},
   "source": [
    "Comparación entre scatter plot y hexplot.\n",
    "\n",
    "-Scatter Plot: se realiza un mapa de cada variable de interes en un espacio bidimensional, trabajan mejor con clases pequeñas, se aprecian mejor los datos.\n",
    "\n",
    "-Hexplot: agrega en puntos a los espacios de los hexagonos y los colorea en funcion de los valores dentro de ellos. Se aprecian mejor los valores que en scatter plot.\n"
   ]
  },
  {
   "cell_type": "markdown",
   "metadata": {},
   "source": [
    "# Práctica 12: Análisis de texto con nltk y wordcloud"
   ]
  },
  {
   "cell_type": "markdown",
   "metadata": {},
   "source": [
    "Abrimos la base de vinos"
   ]
  },
  {
   "cell_type": "code",
   "execution_count": 99,
   "metadata": {},
   "outputs": [
    {
     "name": "stdout",
     "output_type": "stream",
     "text": [
      "Collecting package metadata (current_repodata.json): ...working... done\n",
      "Solving environment: ...working... done\n",
      "\n",
      "# All requested packages already installed.\n",
      "\n"
     ]
    }
   ],
   "source": [
    "import sys\n",
    "!conda install --yes --prefix {sys.prefix} nltk"
   ]
  },
  {
   "cell_type": "markdown",
   "metadata": {},
   "source": [
    "Instalamos todas las bases de datos necesarias para realizar esta practica."
   ]
  },
  {
   "cell_type": "code",
   "execution_count": 100,
   "metadata": {},
   "outputs": [
    {
     "name": "stdout",
     "output_type": "stream",
     "text": [
      "['i', 'me', 'my', 'myself', 'we', 'our', 'ours', 'ourselves', 'you', \"you're\"]\n",
      "{'neg': 1.0, 'neu': 0.0, 'pos': 0.0, 'compound': -0.4215}\n",
      "{'neg': 0.0, 'neu': 0.0, 'pos': 1.0, 'compound': 0.5994}\n"
     ]
    },
    {
     "name": "stderr",
     "output_type": "stream",
     "text": [
      "[nltk_data] Downloading package punkt to\n",
      "[nltk_data]     C:\\Users\\dell\\AppData\\Roaming\\nltk_data...\n",
      "[nltk_data]   Package punkt is already up-to-date!\n",
      "[nltk_data] Downloading package stopwords to\n",
      "[nltk_data]     C:\\Users\\dell\\AppData\\Roaming\\nltk_data...\n",
      "[nltk_data]   Package stopwords is already up-to-date!\n",
      "[nltk_data] Downloading package vader_lexicon to\n",
      "[nltk_data]     C:\\Users\\dell\\AppData\\Roaming\\nltk_data...\n",
      "[nltk_data]   Package vader_lexicon is already up-to-date!\n"
     ]
    }
   ],
   "source": [
    "import nltk\n",
    "import ssl\n",
    "if getattr(ssl, '_create_unverified_context', None):\n",
    "    ssl._create_default_https_context = ssl._create_unverified_context\n",
    "nltk.download('punkt')\n",
    "nltk.download('stopwords')\n",
    "nltk.download('vader_lexicon')\n",
    "from nltk.corpus import stopwords\n",
    "print(stopwords.words(\"english\")[:10])\n",
    "from nltk.sentiment.vader import SentimentIntensityAnalyzer\n",
    "s = SentimentIntensityAnalyzer() # en inglés hasta podemos distinguir entre palabras positivas y negativas\n",
    "print(s.polarity_scores('useless'))\n",
    "print(s.polarity_scores('marvelous'))"
   ]
  },
  {
   "cell_type": "markdown",
   "metadata": {},
   "source": [
    "Utilizaré la base del ejercicio anterior en donde ya se había cambiado el nombre a las columnas, quitando las columnas que no son de nuestro interes.\n",
    "\n",
    "El objetivo es saber los tipos de vinos que más se repiten."
   ]
  },
  {
   "cell_type": "code",
   "execution_count": 101,
   "metadata": {},
   "outputs": [
    {
     "data": {
      "text/html": [
       "<div>\n",
       "<style scoped>\n",
       "    .dataframe tbody tr th:only-of-type {\n",
       "        vertical-align: middle;\n",
       "    }\n",
       "\n",
       "    .dataframe tbody tr th {\n",
       "        vertical-align: top;\n",
       "    }\n",
       "\n",
       "    .dataframe thead th {\n",
       "        text-align: right;\n",
       "    }\n",
       "</style>\n",
       "<table border=\"1\" class=\"dataframe\">\n",
       "  <thead>\n",
       "    <tr style=\"text-align: right;\">\n",
       "      <th></th>\n",
       "      <th>País</th>\n",
       "      <th>Tipo</th>\n",
       "    </tr>\n",
       "  </thead>\n",
       "  <tbody>\n",
       "    <tr>\n",
       "      <td>0</td>\n",
       "      <td>US</td>\n",
       "      <td>Cabernet Sauvignon</td>\n",
       "    </tr>\n",
       "    <tr>\n",
       "      <td>1</td>\n",
       "      <td>Spain</td>\n",
       "      <td>Tinta de Toro</td>\n",
       "    </tr>\n",
       "    <tr>\n",
       "      <td>2</td>\n",
       "      <td>US</td>\n",
       "      <td>Sauvignon Blanc</td>\n",
       "    </tr>\n",
       "    <tr>\n",
       "      <td>3</td>\n",
       "      <td>US</td>\n",
       "      <td>Pinot Noir</td>\n",
       "    </tr>\n",
       "    <tr>\n",
       "      <td>4</td>\n",
       "      <td>France</td>\n",
       "      <td>Provence red blend</td>\n",
       "    </tr>\n",
       "  </tbody>\n",
       "</table>\n",
       "</div>"
      ],
      "text/plain": [
       "     País                Tipo\n",
       "0      US  Cabernet Sauvignon\n",
       "1   Spain       Tinta de Toro\n",
       "2      US     Sauvignon Blanc\n",
       "3      US          Pinot Noir\n",
       "4  France  Provence red blend"
      ]
     },
     "execution_count": 101,
     "metadata": {},
     "output_type": "execute_result"
    }
   ],
   "source": [
    "vinosnuevos=vinos1.drop(['Designación','Puntos','Provincia','Region_1','Region_2','winery','Precio','Descripción','Unnamed: 0'], axis=1)\n",
    "vinosnuevos.head()"
   ]
  },
  {
   "cell_type": "markdown",
   "metadata": {},
   "source": [
    "Vemos los datos unicos de tipos de vinos."
   ]
  },
  {
   "cell_type": "code",
   "execution_count": 102,
   "metadata": {
    "scrolled": false
   },
   "outputs": [
    {
     "data": {
      "text/plain": [
       "array(['Cabernet Sauvignon', 'Tinta de Toro', 'Sauvignon Blanc',\n",
       "       'Pinot Noir', 'Provence red blend', 'Friulano', 'Tannat',\n",
       "       'Chardonnay', 'Tempranillo', 'Malbec', 'Rosé', 'Tempranillo Blend',\n",
       "       'Syrah', 'Mavrud', 'Sangiovese', 'Sparkling Blend',\n",
       "       'Rhône-style White Blend', 'Red Blend', 'Mencía', 'Palomino',\n",
       "       'Petite Sirah', 'Riesling', 'Cabernet Sauvignon-Syrah',\n",
       "       'Portuguese Red', 'Nebbiolo', 'Pinot Gris', 'Meritage', 'Baga',\n",
       "       'Glera', 'Malbec-Merlot', 'Merlot-Malbec', 'Ugni Blanc-Colombard',\n",
       "       'Viognier', 'Cabernet Sauvignon-Cabernet Franc', 'Moscato',\n",
       "       'Pinot Grigio', 'Cabernet Franc', 'White Blend', 'Monastrell',\n",
       "       'Gamay', 'Zinfandel', 'Greco', 'Barbera', 'Grenache',\n",
       "       'Rhône-style Red Blend', 'Albariño', 'Malvasia Bianca',\n",
       "       'Assyrtiko', 'Malagouzia', 'Carmenère', 'Bordeaux-style Red Blend',\n",
       "       'Touriga Nacional', 'Agiorgitiko', 'Picpoul', 'Godello',\n",
       "       'Gewürztraminer', 'Merlot', 'Syrah-Grenache', 'G-S-M', 'Mourvèdre',\n",
       "       'Bordeaux-style White Blend', 'Petit Verdot', 'Muscat',\n",
       "       'Chenin Blanc-Chardonnay', 'Cabernet Sauvignon-Merlot',\n",
       "       'Pinot Bianco', 'Alvarinho', 'Portuguese White', 'Garganega',\n",
       "       'Sauvignon', 'Gros and Petit Manseng', 'Tannat-Cabernet',\n",
       "       'Alicante Bouschet', 'Aragonês', 'Silvaner', 'Ugni Blanc',\n",
       "       'Grüner Veltliner', 'Frappato', 'Lemberger', 'Sylvaner',\n",
       "       'Chasselas', 'Alsace white blend', 'Früburgunder', 'Kekfrankos',\n",
       "       'Vermentino', 'Sherry', 'Aglianico', 'Torrontés', 'Primitivo',\n",
       "       'Semillon-Sauvignon Blanc', 'Portuguese Rosé', 'Grenache-Syrah',\n",
       "       'Prié Blanc', 'Negrette', 'Furmint', 'Carignane', 'Pinot Blanc',\n",
       "       \"Nero d'Avola\", 'St. Laurent', 'Blauburgunder', 'Blaufränkisch',\n",
       "       'Scheurebe', 'Ribolla Gialla', 'Charbono',\n",
       "       'Malbec-Cabernet Sauvignon', 'Pinot Noir-Gamay', 'Pinot Nero',\n",
       "       'Gros Manseng', 'Nerello Mascalese', 'Shiraz', 'Negroamaro',\n",
       "       'Champagne Blend', 'Romorantin', 'Syrah-Cabernet Sauvignon',\n",
       "       'Tannat-Merlot', 'Duras', 'Garnacha', 'Tinta Francisca',\n",
       "       'Portuguese Sparkling', 'Chenin Blanc', 'Turbiana',\n",
       "       'Petite Verdot', 'Posip', 'Fumé Blanc', 'Roussanne', 'Grillo',\n",
       "       'Müller-Thurgau', 'Pinot Auxerrois', 'Port', 'Cabernet Blend',\n",
       "       'Cabernet Franc-Cabernet Sauvignon', 'Castelão', 'Encruzado',\n",
       "       'Touriga Nacional-Cabernet Sauvignon', 'Colombard-Sauvignon Blanc',\n",
       "       'Moscatel', 'Marsanne', 'Siria', 'Garnacha Blanca',\n",
       "       'Merlot-Cabernet Sauvignon', 'Arinto', 'Petit Manseng', 'Loureiro',\n",
       "       'Melon', 'Carricante', 'Fiano', 'Schwartzriesling',\n",
       "       'Sangiovese-Syrah', 'Tannat-Cabernet Franc',\n",
       "       'Cabernet Franc-Merlot', 'Sauvignon Blanc-Semillon', 'Macabeo',\n",
       "       'Alfrocheiro', 'Aligoté', 'Verdejo', 'Grenache Blanc',\n",
       "       'Fernão Pires', 'Spätburgunder', 'Ciliegiolo',\n",
       "       'Cabernet Sauvignon-Carmenère', 'Auxerrois', 'Sirica', 'Zweigelt',\n",
       "       'Pugnitello', 'Rosado', 'Rosato', 'Malvazija', 'Kalecik Karasi',\n",
       "       'Muskat Ottonel', 'Malbec-Bonarda',\n",
       "       'Tempranillo-Cabernet Sauvignon', 'Rivaner', 'Trepat', 'Baco Noir',\n",
       "       'Trebbiano', 'Chardonnay-Viognier', 'Syrah-Mourvèdre', 'Graciano',\n",
       "       'Roviello', 'Perricone', 'Falanghina', 'Vranec', 'Carignan',\n",
       "       'Cabernet-Shiraz', 'Verdelho', 'Pedro Ximénez',\n",
       "       'Marsanne-Roussanne', 'Malbec Blend', 'Weissburgunder', 'Morava',\n",
       "       'Ruen', 'Hondarrabi Zuri', 'Catarratto',\n",
       "       'Chardonnay-Sauvignon Blanc', 'Vidal', 'Rieslaner', 'Dornfelder',\n",
       "       'Tinto Fino', 'Gelber Muskateller', 'Roter Veltliner', 'Aragonez',\n",
       "       'Vitovska', 'Pinot Noir-Syrah', 'Gamay Noir', 'Grauburgunder',\n",
       "       'Cannonau', 'Mauzac', 'Austrian Red Blend', 'Sémillon',\n",
       "       'Lambrusco di Sorbara', 'Teran', 'Dolcetto', 'Cinsault',\n",
       "       'Assyrtico', 'Teroldego', 'Tamjanika', 'Boğazkere', 'Kadarka',\n",
       "       'Narince', 'Malbec-Petit Verdot', 'Veltliner', 'Traminer',\n",
       "       'Lambrusco', 'Arneis', 'Cabernet Sauvignon-Shiraz',\n",
       "       'Tocai Friulano', 'Fer Servadou', 'Muskateller',\n",
       "       'Nerello Cappuccio', 'Moscatel Roxo', 'Elbling', 'Saperavi',\n",
       "       'Antão Vaz', 'Pinot Meunier', 'Petite Syrah', 'Malvasia',\n",
       "       'Malbec-Tannat', 'Kallmet', 'Syrah-Merlot', 'Montepulciano',\n",
       "       'Kerner', 'Alvarinho-Chardonnay', 'Žilavka', 'Vinhão',\n",
       "       'Chardonnay-Semillon', 'Carmenère-Cabernet Sauvignon',\n",
       "       'Merlot-Cabernet Franc', 'Orangetraube',\n",
       "       'Cabernet Sauvignon-Sangiovese', 'Okuzgozu', 'Viura',\n",
       "       'Garnacha-Syrah', 'Zibibbo', 'Feteasca', 'Xarel-lo', 'Prokupac',\n",
       "       'Códega do Larinho', 'Touriga Nacional Blend', 'Inzolia',\n",
       "       'Cabernet-Syrah', 'Lambrusco Grasparossa', 'Malagousia',\n",
       "       'Cabernet Franc-Malbec', 'Feteasca Neagra', 'Yapincak',\n",
       "       'Tempranillo-Shiraz', 'Cabernet Sauvignon Grenache', 'Tinta Roriz',\n",
       "       'Merlot-Syrah', 'Tinta Fina', 'Colombard-Ugni Blanc', 'Colombard',\n",
       "       'Roditis', 'Grenache-Carignan', 'Emir', 'Orange Muscat',\n",
       "       'Karalahna', 'Trincadeira', 'Refosco', 'Pied de Perdrix',\n",
       "       'Vignoles', 'Carignan-Grenache', \"Muscat d'Alexandrie\", 'Bobal',\n",
       "       'Symphony', 'Norton', 'Sauvignon Blanc-Sauvignon Gris',\n",
       "       'Rkatsiteli', 'Roussanne-Viognier', 'Pinela', 'Blatina',\n",
       "       'Shiraz-Viognier', 'Bonarda', 'Sauvignon Blanc-Chardonnay',\n",
       "       'Chambourcin', 'Traminette', 'Grenache Blend', 'Jaen', 'Mondeuse',\n",
       "       'Feteascǎ Regalǎ', 'Teroldego Rotaliano',\n",
       "       'Sangiovese-Cabernet Sauvignon', 'Listán Negro',\n",
       "       'Syrah-Petite Sirah', 'Viognier-Chardonnay', 'Kuntra', 'Jacquère',\n",
       "       'Portuguiser', 'Grecanico', 'Verdejo-Viura', 'Tinto del Pais',\n",
       "       'Moscato Giallo', 'Cabernet Sauvignon-Malbec', 'Mission',\n",
       "       'Neuburger', 'Bastardo', 'Bical', 'Sacy', 'Carineña',\n",
       "       'Garnacha-Tempranillo', 'Pecorino', 'Garnacha Blend', 'Cococciola',\n",
       "       'Passerina', 'Gaglioppo', 'Garnacha Tintorera', 'Prieto Picudo',\n",
       "       'Tempranillo Blanco', \"Cesanese d'Affile\", 'Muscat Canelli',\n",
       "       'Cabernet', 'Malvasia Nera', 'Premsal', 'Mansois',\n",
       "       'Welschriesling', 'Shiraz-Tempranillo', 'Verdicchio', 'Sagrantino',\n",
       "       'Rolle', 'Trousseau Gris', 'Counoise', 'Mantonico',\n",
       "       'Cariñena-Garnacha', 'Insolia', 'Tokaji', 'Austrian white blend',\n",
       "       'Shiraz-Grenache', 'Claret', 'Syrah-Tempranillo', 'Uva di Troia',\n",
       "       'Aleatico', 'Piedirosso', 'Viognier-Marsanne',\n",
       "       'Pinot Grigio-Sauvignon Blanc', 'Pallagrello Nero',\n",
       "       'Chardonnay-Albariño', 'Savagnin', 'Pinotage', 'Braucol',\n",
       "       'Moschofilero', 'Nero di Troia', 'Carignano', 'Susumaniello',\n",
       "       'Baga-Touriga Nacional', 'Vidal Blanc', 'Vernaccia',\n",
       "       'Corvina, Rondinella, Molinara', 'Mavrotragano',\n",
       "       'Garnacha-Monastrell', 'Lagrein', 'Cabernet Merlot',\n",
       "       'Monastrell-Syrah', 'Malbec-Tempranillo', 'Syrah-Viognier',\n",
       "       'Verdeca', 'Sangiovese Grosso', 'Merlot-Argaman',\n",
       "       'Chenin Blanc-Viognier', 'Garnacha-Cabernet', 'Maturana', 'Malvar',\n",
       "       'Airen', 'Monica', 'Gewürztraminer-Riesling', 'Prugnolo Gentile',\n",
       "       'Steen', 'Chenin Blanc-Sauvignon Blanc',\n",
       "       'Shiraz-Cabernet Sauvignon', 'Picolit', 'Prosecco',\n",
       "       'White Riesling', 'White Port', 'Zierfandler', 'Petroulianos',\n",
       "       'Mavrodaphne', 'Savatiano', 'Tempranillo-Garnacha', 'Vidadillo',\n",
       "       'Syrah-Cabernet', 'Gelber Traminer', 'Grenache-Shiraz',\n",
       "       'Rotgipfler', 'Cabernet Sauvignon-Tempranillo', 'Edelzwicker',\n",
       "       'Cortese', 'Chardonnay Weissburgunder', 'Torbato', 'Verduzzo',\n",
       "       'Debit', 'Bovale', 'Tempranillo-Merlot', 'Xinisteri',\n",
       "       'Merlot-Cabernet', 'Verdejo-Sauvignon Blanc', 'Black Muscat',\n",
       "       'Koshu', 'Királyleányka', 'Favorita', 'Xinomavro',\n",
       "       'Cserszegi Fűszeres', 'Hárslevelü', 'Pallagrello', 'Mavroudi',\n",
       "       'Muscat Blanc', 'Schiava', 'Meoru', 'Nuragus',\n",
       "       'Trebbiano di Lugana', 'Coda di Volpe', 'Raboso',\n",
       "       'Shiraz-Pinotage', 'Enantio', 'Greco Bianco', 'Tai', 'Tokay',\n",
       "       'Muscadel', 'Cabernet Franc-Carmenère', 'Tintilia ', 'Segalin',\n",
       "       'Lacrima', 'Cerceal', 'Cayuga', 'Sauvignon Gris', 'Albana',\n",
       "       'Corvina', 'Macabeo-Moscatel', 'Macabeo-Chardonnay', 'Moscadello',\n",
       "       'Nasco', 'Viognier-Roussanne', 'Plavac Mali',\n",
       "       'Cabernet Sauvignon-Merlot-Shiraz', 'Sauvignon Blanc-Chenin Blanc',\n",
       "       'Shiraz-Mourvèdre', 'Albarín', 'Black Monukka', 'Morio Muskat',\n",
       "       'Nielluciu', 'Alicante', 'Cabernet Sauvignon and Tinta Roriz',\n",
       "       'Viura-Chardonnay', \"Loin de l'Oeil\", 'Roter Traminer',\n",
       "       'Karasakiz', 'Casavecchia', 'Malvasia-Viura', 'Nosiola',\n",
       "       'Incrocio Manzoni', 'Viura-Verdejo', 'Erbaluce', 'Forcallà',\n",
       "       'Pansa Blanca', 'Catalanesca', 'Muscadelle', 'Malbec-Syrah',\n",
       "       'Petit Meslier', 'Johannisberg Riesling', 'Pignoletto',\n",
       "       'Cabernet Pfeffer', 'Syrah-Cabernet Franc', 'Valdiguié', 'Mazuelo',\n",
       "       'Brachetto', 'Jacquez', 'Moscofilero', 'Chardonnay-Sauvignon',\n",
       "       'Madeleine Angevine', 'Ruché', 'Merlot-Petite Verdot',\n",
       "       'Roussanne-Marsanne', 'Moscatel de Alejandría',\n",
       "       'Muscat Blanc à Petit Grain', 'Sämling', 'Mtsvane', 'Zlahtina',\n",
       "       'Zelen', 'Doña Blanca', 'Carmenère-Syrah',\n",
       "       'Roussanne-Grenache Blanc', 'Kinali Yapincak', 'Robola',\n",
       "       'Pinot Blanc-Chardonnay', 'Chardonnay-Pinot Blanc',\n",
       "       'Saperavi-Merlot', 'Malvasia Istriana', 'Torontel', 'Picapoll',\n",
       "       'Zierfandler-Rotgipfler', 'Malvasia Fina', 'Chinuri', 'Muscatel',\n",
       "       'Sousão', 'Silvaner-Traminer', 'Syrah-Carignan', 'Bukettraube',\n",
       "       'Muskat', 'Argaman', 'Provence white blend', 'Touriga Franca',\n",
       "       'Morillon', 'Carignan-Syrah', 'Aidani', 'Viognier-Grenache Blanc',\n",
       "       'Albarossa', 'Sauvignon Blanc-Verdejo', 'Grenache-Mourvèdre',\n",
       "       'Tannat-Syrah', 'Seyval Blanc', 'Tocai Rosso', 'Pinot-Chardonnay',\n",
       "       'Moscatel Graúdo', 'Pigato', 'Siegerrebe', 'Bombino Bianco',\n",
       "       'Trebbiano-Malvasia', 'Magliocco', 'Verduzzo Friulano ',\n",
       "       'Vespaiolo', 'Marzemino', 'Tempranillo-Malbec', 'Crespiello',\n",
       "       'Cabernet Franc-Tempranillo', 'Gouveio', 'Caprettone',\n",
       "       'Garnacha-Graciano', 'Mataro', \"Pineau d'Aunis\", 'Bual', 'Sercial',\n",
       "       'Moscato di Noto', 'Sauvignonasse', 'Madeira Blend', 'St. George',\n",
       "       'Rebula', 'Pallagrello Bianco', 'Vilana', 'Pelaverga Piccolo',\n",
       "       'Syrah-Grenache-Viognier', 'Alvarelhão', 'Durif', 'Angevine',\n",
       "       'Semillon-Chardonnay', 'Pinot Blanc-Pinot Noir', 'Manzoni',\n",
       "       'Maréchal Foch', 'Blauer Portugieser', 'Tocai', 'Shiraz-Malbec',\n",
       "       'Cabernet Moravia', 'Espadeiro', 'País', 'Altesse', 'Avesso',\n",
       "       'Grignolino', 'Mandilaria', 'Freisa', 'Merlot-Shiraz', 'Dafni',\n",
       "       'Xynisteri', 'Grechetto', 'Roscetto', 'Sideritis',\n",
       "       'Pinotage-Merlot', 'Asprinio', 'Grolleau', 'Gragnano', 'Ansonica',\n",
       "       'Sangiovese Cabernet', 'Tinta Barroca', 'Syrah-Bonarda',\n",
       "       'Marsanne-Viognier', 'Azal', 'Durello', 'Syrah-Malbec',\n",
       "       'Malbec-Cabernet Franc', 'Franconia', 'Rufete', 'Parraleta',\n",
       "       'St. Vincent', 'Groppello', 'Athiri', 'Muscat of Alexandria',\n",
       "       'Malvoisie', 'Colorino', 'Merlot-Grenache', 'Terret Blanc',\n",
       "       'Chardonel', 'Macabeo-Gewürztraminer', 'Grenache Gris', 'Rabigato',\n",
       "       'Muscat Hamburg', 'Sarba', 'Irsai Oliver', 'Chardonnay-Pinot Gris',\n",
       "       'Vermentino Nero', 'Pardina', 'Apple', 'Clairette',\n",
       "       'Sauvignon Musqué', 'Shiraz-Merlot', 'Viognier-Valdiguié',\n",
       "       'Chardonelle', 'Malmsey', 'Tinta Negra Mole',\n",
       "       'Pinot Grigio-Chardonnay', 'Muscadet', 'Viura-Sauvignon Blanc',\n",
       "       'Huxelrebe', 'Tokay Pinot Gris', 'Chardonnay-Pinot Grigio',\n",
       "       'Moristel', 'Carnelian'], dtype=object)"
      ]
     },
     "execution_count": 102,
     "metadata": {},
     "output_type": "execute_result"
    }
   ],
   "source": [
    "vinosnuevos['Tipo'].unique()"
   ]
  },
  {
   "cell_type": "markdown",
   "metadata": {},
   "source": [
    "Se agrega a una nueva carpeta csv"
   ]
  },
  {
   "cell_type": "code",
   "execution_count": 103,
   "metadata": {},
   "outputs": [
    {
     "data": {
      "text/html": [
       "<div>\n",
       "<style scoped>\n",
       "    .dataframe tbody tr th:only-of-type {\n",
       "        vertical-align: middle;\n",
       "    }\n",
       "\n",
       "    .dataframe tbody tr th {\n",
       "        vertical-align: top;\n",
       "    }\n",
       "\n",
       "    .dataframe thead th {\n",
       "        text-align: right;\n",
       "    }\n",
       "</style>\n",
       "<table border=\"1\" class=\"dataframe\">\n",
       "  <thead>\n",
       "    <tr style=\"text-align: right;\">\n",
       "      <th></th>\n",
       "      <th>País</th>\n",
       "      <th>Tipo</th>\n",
       "    </tr>\n",
       "  </thead>\n",
       "  <tbody>\n",
       "    <tr>\n",
       "      <td>0</td>\n",
       "      <td>US</td>\n",
       "      <td>Cabernet Sauvignon</td>\n",
       "    </tr>\n",
       "    <tr>\n",
       "      <td>1</td>\n",
       "      <td>Spain</td>\n",
       "      <td>Tinta de Toro</td>\n",
       "    </tr>\n",
       "  </tbody>\n",
       "</table>\n",
       "</div>"
      ],
      "text/plain": [
       "    País                Tipo\n",
       "0     US  Cabernet Sauvignon\n",
       "1  Spain       Tinta de Toro"
      ]
     },
     "execution_count": 103,
     "metadata": {},
     "output_type": "execute_result"
    }
   ],
   "source": [
    "vinosnuevos.to_csv('s-rev.csv', index=False)\n",
    "read = pd.read_csv('s-rev.csv')\n",
    "read.head(2)"
   ]
  },
  {
   "cell_type": "markdown",
   "metadata": {},
   "source": [
    "Usamos lo siguiente para poder trabajar con wordcloud."
   ]
  },
  {
   "cell_type": "code",
   "execution_count": 114,
   "metadata": {},
   "outputs": [
    {
     "name": "stdout",
     "output_type": "stream",
     "text": [
      "Collecting wordcloud\n",
      "  Downloading https://files.pythonhosted.org/packages/96/36/f712ec19c6e253d27c5cae0d45a4a465ebb5ccf0cb26887a6a3127d13769/wordcloud-1.6.0-cp37-cp37m-win_amd64.whl (153kB)\n",
      "Requirement already satisfied: matplotlib in c:\\users\\dell\\anaconda3\\lib\\site-packages (from wordcloud) (3.1.1)\n",
      "Requirement already satisfied: pillow in c:\\users\\dell\\anaconda3\\lib\\site-packages (from wordcloud) (6.2.0)\n",
      "Requirement already satisfied: numpy>=1.6.1 in c:\\users\\dell\\anaconda3\\lib\\site-packages (from wordcloud) (1.16.5)\n",
      "Requirement already satisfied: cycler>=0.10 in c:\\users\\dell\\anaconda3\\lib\\site-packages (from matplotlib->wordcloud) (0.10.0)\n",
      "Requirement already satisfied: kiwisolver>=1.0.1 in c:\\users\\dell\\anaconda3\\lib\\site-packages (from matplotlib->wordcloud) (1.1.0)\n",
      "Requirement already satisfied: pyparsing!=2.0.4,!=2.1.2,!=2.1.6,>=2.0.1 in c:\\users\\dell\\anaconda3\\lib\\site-packages (from matplotlib->wordcloud) (2.4.2)\n",
      "Requirement already satisfied: python-dateutil>=2.1 in c:\\users\\dell\\anaconda3\\lib\\site-packages (from matplotlib->wordcloud) (2.8.0)\n",
      "Requirement already satisfied: six in c:\\users\\dell\\anaconda3\\lib\\site-packages (from cycler>=0.10->matplotlib->wordcloud) (1.12.0)\n",
      "Requirement already satisfied: setuptools in c:\\users\\dell\\anaconda3\\lib\\site-packages (from kiwisolver>=1.0.1->matplotlib->wordcloud) (41.4.0)\n",
      "Installing collected packages: wordcloud\n",
      "Successfully installed wordcloud-1.6.0\n",
      "Note: you may need to restart the kernel to use updated packages.\n"
     ]
    }
   ],
   "source": [
    "pip install wordcloud"
   ]
  },
  {
   "cell_type": "markdown",
   "metadata": {},
   "source": [
    "Importamos librerias que serán utilizadas para esta practica"
   ]
  },
  {
   "cell_type": "code",
   "execution_count": 117,
   "metadata": {},
   "outputs": [
    {
     "data": {
      "text/html": [
       "<div>\n",
       "<style scoped>\n",
       "    .dataframe tbody tr th:only-of-type {\n",
       "        vertical-align: middle;\n",
       "    }\n",
       "\n",
       "    .dataframe tbody tr th {\n",
       "        vertical-align: top;\n",
       "    }\n",
       "\n",
       "    .dataframe thead th {\n",
       "        text-align: right;\n",
       "    }\n",
       "</style>\n",
       "<table border=\"1\" class=\"dataframe\">\n",
       "  <thead>\n",
       "    <tr style=\"text-align: right;\">\n",
       "      <th></th>\n",
       "      <th>0</th>\n",
       "      <th>1</th>\n",
       "    </tr>\n",
       "  </thead>\n",
       "  <tbody>\n",
       "    <tr>\n",
       "      <td>0</td>\n",
       "      <td>País</td>\n",
       "      <td>Tipo</td>\n",
       "    </tr>\n",
       "    <tr>\n",
       "      <td>1</td>\n",
       "      <td>US</td>\n",
       "      <td>Cabernet Sauvignon</td>\n",
       "    </tr>\n",
       "    <tr>\n",
       "      <td>2</td>\n",
       "      <td>Spain</td>\n",
       "      <td>Tinta de Toro</td>\n",
       "    </tr>\n",
       "    <tr>\n",
       "      <td>3</td>\n",
       "      <td>US</td>\n",
       "      <td>Sauvignon Blanc</td>\n",
       "    </tr>\n",
       "    <tr>\n",
       "      <td>4</td>\n",
       "      <td>US</td>\n",
       "      <td>Pinot Noir</td>\n",
       "    </tr>\n",
       "    <tr>\n",
       "      <td>5</td>\n",
       "      <td>France</td>\n",
       "      <td>Provence red blend</td>\n",
       "    </tr>\n",
       "    <tr>\n",
       "      <td>6</td>\n",
       "      <td>Spain</td>\n",
       "      <td>Tinta de Toro</td>\n",
       "    </tr>\n",
       "    <tr>\n",
       "      <td>7</td>\n",
       "      <td>Spain</td>\n",
       "      <td>Tinta de Toro</td>\n",
       "    </tr>\n",
       "    <tr>\n",
       "      <td>8</td>\n",
       "      <td>Spain</td>\n",
       "      <td>Tinta de Toro</td>\n",
       "    </tr>\n",
       "    <tr>\n",
       "      <td>9</td>\n",
       "      <td>US</td>\n",
       "      <td>Pinot Noir</td>\n",
       "    </tr>\n",
       "  </tbody>\n",
       "</table>\n",
       "</div>"
      ],
      "text/plain": [
       "        0                   1\n",
       "0    País                Tipo\n",
       "1      US  Cabernet Sauvignon\n",
       "2   Spain       Tinta de Toro\n",
       "3      US     Sauvignon Blanc\n",
       "4      US          Pinot Noir\n",
       "5  France  Provence red blend\n",
       "6   Spain       Tinta de Toro\n",
       "7   Spain       Tinta de Toro\n",
       "8   Spain       Tinta de Toro\n",
       "9      US          Pinot Noir"
      ]
     },
     "execution_count": 117,
     "metadata": {},
     "output_type": "execute_result"
    }
   ],
   "source": [
    "import ssl\n",
    "import matplotlib.pyplot as plt\n",
    "from wordcloud import WordCloud\n",
    "from nltk import word_tokenize\n",
    "from nltk.corpus import stopwords\n",
    "from nltk.stem import SnowballStemmer\n",
    "from nltk.tokenize import RegexpTokenizer\n",
    "import pandas  as pa\n",
    "\n",
    "if getattr(ssl, '_create_unverified_context', None): \n",
    "    ssl._create_default_https_context = ssl._create_unverified_context\n",
    "\n",
    "read.to_csv('rev-solo.csv',index=False)\n",
    "pd2 = pa.read_csv('rev-solo.csv',header=None)\n",
    "pd2.head(10)"
   ]
  },
  {
   "cell_type": "markdown",
   "metadata": {},
   "source": [
    "Realizamos la grafica con base a la variable con la base de datos final."
   ]
  },
  {
   "cell_type": "code",
   "execution_count": 116,
   "metadata": {},
   "outputs": [
    {
     "data": {
      "image/png": "[encoded data removed]",
      "text/plain": [
       "<Figure size 1080x504 with 1 Axes>"
      ]
     },
     "metadata": {
      "needs_background": "light"
     },
     "output_type": "display_data"
    }
   ],
   "source": [
    "pd2.columns = ['Pais','Tipo']\n",
    "n = len(pd2)\n",
    "spa = stopwords.words(\"english\")\n",
    "stemmer = SnowballStemmer('english')\n",
    "tokenizer = RegexpTokenizer(r'\\w+') # para eliminar puntuación\n",
    "reemplazos = []\n",
    "for r in range(n):\n",
    "    original = pd2.Tipo[r]\n",
    "    reemplazo = ''\n",
    "    if original != 'NaN': \n",
    "        quedar = [stemmer.stem(p) for p in tokenizer.tokenize(original) if p.lower() not in spa]   \n",
    "    reemplazos.append(' '.join(quedar))\n",
    "pd2['limpios'] = reemplazos\n",
    "texto = ' '.join(reemplazos)\n",
    "nube = WordCloud().generate(texto)\n",
    "plt.rcParams[\"figure.figsize\"] = [15, 7]\n",
    "plt.imshow(nube)\n",
    "plt.axis(\"off\")\n",
    "plt.show()"
   ]
  },
  {
   "cell_type": "markdown",
   "metadata": {},
   "source": [
    "Y nos da resultado los tipos de vino más mencionados."
   ]
  },
  {
   "cell_type": "code",
   "execution_count": null,
   "metadata": {},
   "outputs": [],
   "source": []
  }
 ],
 "metadata": {
  "kernelspec": {
   "display_name": "Python 3",
   "language": "python",
   "name": "python3"
  },
  "language_info": {
   "codemirror_mode": {
    "name": "ipython",
    "version": 3
   },
   "file_extension": ".py",
   "mimetype": "text/x-python",
   "name": "python",
   "nbconvert_exporter": "python",
   "pygments_lexer": "ipython3",
   "version": "3.7.4"
  }
 },
 "nbformat": 4,
 "nbformat_minor": 2
}
